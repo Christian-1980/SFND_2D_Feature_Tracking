{
 "cells": [
  {
   "cell_type": "markdown",
   "id": "329be079-976f-4bc0-9bd5-a07f6c46702f",
   "metadata": {},
   "source": [
    "# EDA SFND Data"
   ]
  },
  {
   "cell_type": "code",
   "execution_count": 12,
   "id": "a88a6cfe-41c1-43da-88f8-658d8abf403b",
   "metadata": {},
   "outputs": [],
   "source": [
    "import pandas as pd\n",
    "import matplotlib.pyplot as plt\n",
    "import seaborn as sns"
   ]
  },
  {
   "cell_type": "markdown",
   "id": "a5572033-c5ab-473a-9267-57ab015c9b63",
   "metadata": {},
   "source": [
    "## Read in generated Data"
   ]
  },
  {
   "cell_type": "code",
   "execution_count": 13,
   "id": "f2fb1bcc-baba-4381-957a-66acf0fc0f26",
   "metadata": {},
   "outputs": [],
   "source": [
    "filename = \"Keypoints_Dectection_Overview.csv\""
   ]
  },
  {
   "cell_type": "code",
   "execution_count": 14,
   "id": "374a4153-0e6d-4c39-9a5c-28e70b72817f",
   "metadata": {},
   "outputs": [],
   "source": [
    "df_keypoints = pd.read_csv(filename)"
   ]
  },
  {
   "cell_type": "code",
   "execution_count": 15,
   "id": "9a761dd2-7464-4b11-8564-97186ac2b3e0",
   "metadata": {},
   "outputs": [
    {
     "data": {
      "text/plain": [
       "Index(['Image', 'Detector', 'Descriptor', 'Sum_Keypoints', 'Sum_Matches',\n",
       "       'Detector_Time', 'Descriptor_Time', 'Matcher_Time', 'Total_Time'],\n",
       "      dtype='object')"
      ]
     },
     "execution_count": 15,
     "metadata": {},
     "output_type": "execute_result"
    }
   ],
   "source": [
    "df_keypoints.columns"
   ]
  },
  {
   "cell_type": "markdown",
   "id": "2731c257-0480-4ee2-917a-052073aa8425",
   "metadata": {},
   "source": [
    "## Distribution of KPs over the images by Detector Type"
   ]
  },
  {
   "cell_type": "code",
   "execution_count": 17,
   "id": "c358a2fc-869a-4e49-999d-af271fbdc18b",
   "metadata": {},
   "outputs": [
    {
     "data": {
      "text/html": [
       "<div>\n",
       "<style scoped>\n",
       "    .dataframe tbody tr th:only-of-type {\n",
       "        vertical-align: middle;\n",
       "    }\n",
       "\n",
       "    .dataframe tbody tr th {\n",
       "        vertical-align: top;\n",
       "    }\n",
       "\n",
       "    .dataframe thead th {\n",
       "        text-align: right;\n",
       "    }\n",
       "</style>\n",
       "<table border=\"1\" class=\"dataframe\">\n",
       "  <thead>\n",
       "    <tr style=\"text-align: right;\">\n",
       "      <th></th>\n",
       "      <th>Image</th>\n",
       "      <th>Detector</th>\n",
       "      <th>Sum_Keypoints</th>\n",
       "    </tr>\n",
       "  </thead>\n",
       "  <tbody>\n",
       "    <tr>\n",
       "      <th>0</th>\n",
       "      <td>IMAGE_1</td>\n",
       "      <td>AKAZE</td>\n",
       "      <td>157.0</td>\n",
       "    </tr>\n",
       "    <tr>\n",
       "      <th>1</th>\n",
       "      <td>IMAGE_1</td>\n",
       "      <td>BRISK</td>\n",
       "      <td>274.0</td>\n",
       "    </tr>\n",
       "    <tr>\n",
       "      <th>2</th>\n",
       "      <td>IMAGE_1</td>\n",
       "      <td>FAST</td>\n",
       "      <td>427.0</td>\n",
       "    </tr>\n",
       "    <tr>\n",
       "      <th>3</th>\n",
       "      <td>IMAGE_1</td>\n",
       "      <td>HARRIS</td>\n",
       "      <td>14.0</td>\n",
       "    </tr>\n",
       "    <tr>\n",
       "      <th>4</th>\n",
       "      <td>IMAGE_1</td>\n",
       "      <td>ORB</td>\n",
       "      <td>102.0</td>\n",
       "    </tr>\n",
       "    <tr>\n",
       "      <th>...</th>\n",
       "      <td>...</td>\n",
       "      <td>...</td>\n",
       "      <td>...</td>\n",
       "    </tr>\n",
       "    <tr>\n",
       "      <th>58</th>\n",
       "      <td>IMAGE_9</td>\n",
       "      <td>FAST</td>\n",
       "      <td>401.0</td>\n",
       "    </tr>\n",
       "    <tr>\n",
       "      <th>59</th>\n",
       "      <td>IMAGE_9</td>\n",
       "      <td>HARRIS</td>\n",
       "      <td>35.0</td>\n",
       "    </tr>\n",
       "    <tr>\n",
       "      <th>60</th>\n",
       "      <td>IMAGE_9</td>\n",
       "      <td>ORB</td>\n",
       "      <td>125.0</td>\n",
       "    </tr>\n",
       "    <tr>\n",
       "      <th>61</th>\n",
       "      <td>IMAGE_9</td>\n",
       "      <td>SHITOMASI</td>\n",
       "      <td>112.0</td>\n",
       "    </tr>\n",
       "    <tr>\n",
       "      <th>62</th>\n",
       "      <td>IMAGE_9</td>\n",
       "      <td>SIFT</td>\n",
       "      <td>135.0</td>\n",
       "    </tr>\n",
       "  </tbody>\n",
       "</table>\n",
       "<p>63 rows × 3 columns</p>\n",
       "</div>"
      ],
      "text/plain": [
       "      Image   Detector  Sum_Keypoints\n",
       "0   IMAGE_1      AKAZE          157.0\n",
       "1   IMAGE_1      BRISK          274.0\n",
       "2   IMAGE_1       FAST          427.0\n",
       "3   IMAGE_1     HARRIS           14.0\n",
       "4   IMAGE_1        ORB          102.0\n",
       "..      ...        ...            ...\n",
       "58  IMAGE_9       FAST          401.0\n",
       "59  IMAGE_9     HARRIS           35.0\n",
       "60  IMAGE_9        ORB          125.0\n",
       "61  IMAGE_9  SHITOMASI          112.0\n",
       "62  IMAGE_9       SIFT          135.0\n",
       "\n",
       "[63 rows x 3 columns]"
      ]
     },
     "execution_count": 17,
     "metadata": {},
     "output_type": "execute_result"
    }
   ],
   "source": [
    "df_stats_img = df_keypoints.groupby([\"Image\", \"Detector\"])[\"Sum_Keypoints\"].mean().reset_index()\n",
    "df_stats_img"
   ]
  },
  {
   "cell_type": "code",
   "execution_count": 18,
   "id": "6ca42d2f-362d-4285-9039-d47398648b16",
   "metadata": {},
   "outputs": [
    {
     "data": {
      "text/html": [
       "<div>\n",
       "<style scoped>\n",
       "    .dataframe tbody tr th:only-of-type {\n",
       "        vertical-align: middle;\n",
       "    }\n",
       "\n",
       "    .dataframe tbody tr th {\n",
       "        vertical-align: top;\n",
       "    }\n",
       "\n",
       "    .dataframe thead th {\n",
       "        text-align: right;\n",
       "    }\n",
       "</style>\n",
       "<table border=\"1\" class=\"dataframe\">\n",
       "  <thead>\n",
       "    <tr style=\"text-align: right;\">\n",
       "      <th></th>\n",
       "      <th>Image</th>\n",
       "      <th>Detector</th>\n",
       "      <th>Sum_Keypoints</th>\n",
       "    </tr>\n",
       "  </thead>\n",
       "  <tbody>\n",
       "    <tr>\n",
       "      <th>0</th>\n",
       "      <td>IMAGE_1</td>\n",
       "      <td>AKAZE</td>\n",
       "      <td>157.0</td>\n",
       "    </tr>\n",
       "    <tr>\n",
       "      <th>1</th>\n",
       "      <td>IMAGE_1</td>\n",
       "      <td>BRISK</td>\n",
       "      <td>274.0</td>\n",
       "    </tr>\n",
       "    <tr>\n",
       "      <th>2</th>\n",
       "      <td>IMAGE_1</td>\n",
       "      <td>FAST</td>\n",
       "      <td>427.0</td>\n",
       "    </tr>\n",
       "    <tr>\n",
       "      <th>3</th>\n",
       "      <td>IMAGE_1</td>\n",
       "      <td>HARRIS</td>\n",
       "      <td>14.0</td>\n",
       "    </tr>\n",
       "    <tr>\n",
       "      <th>4</th>\n",
       "      <td>IMAGE_1</td>\n",
       "      <td>ORB</td>\n",
       "      <td>102.0</td>\n",
       "    </tr>\n",
       "    <tr>\n",
       "      <th>...</th>\n",
       "      <td>...</td>\n",
       "      <td>...</td>\n",
       "      <td>...</td>\n",
       "    </tr>\n",
       "    <tr>\n",
       "      <th>58</th>\n",
       "      <td>IMAGE_9</td>\n",
       "      <td>FAST</td>\n",
       "      <td>401.0</td>\n",
       "    </tr>\n",
       "    <tr>\n",
       "      <th>59</th>\n",
       "      <td>IMAGE_9</td>\n",
       "      <td>HARRIS</td>\n",
       "      <td>35.0</td>\n",
       "    </tr>\n",
       "    <tr>\n",
       "      <th>60</th>\n",
       "      <td>IMAGE_9</td>\n",
       "      <td>ORB</td>\n",
       "      <td>125.0</td>\n",
       "    </tr>\n",
       "    <tr>\n",
       "      <th>61</th>\n",
       "      <td>IMAGE_9</td>\n",
       "      <td>SHITOMASI</td>\n",
       "      <td>112.0</td>\n",
       "    </tr>\n",
       "    <tr>\n",
       "      <th>62</th>\n",
       "      <td>IMAGE_9</td>\n",
       "      <td>SIFT</td>\n",
       "      <td>135.0</td>\n",
       "    </tr>\n",
       "  </tbody>\n",
       "</table>\n",
       "<p>63 rows × 3 columns</p>\n",
       "</div>"
      ],
      "text/plain": [
       "      Image   Detector  Sum_Keypoints\n",
       "0   IMAGE_1      AKAZE          157.0\n",
       "1   IMAGE_1      BRISK          274.0\n",
       "2   IMAGE_1       FAST          427.0\n",
       "3   IMAGE_1     HARRIS           14.0\n",
       "4   IMAGE_1        ORB          102.0\n",
       "..      ...        ...            ...\n",
       "58  IMAGE_9       FAST          401.0\n",
       "59  IMAGE_9     HARRIS           35.0\n",
       "60  IMAGE_9        ORB          125.0\n",
       "61  IMAGE_9  SHITOMASI          112.0\n",
       "62  IMAGE_9       SIFT          135.0\n",
       "\n",
       "[63 rows x 3 columns]"
      ]
     },
     "execution_count": 18,
     "metadata": {},
     "output_type": "execute_result"
    }
   ],
   "source": [
    "df_stats_img"
   ]
  },
  {
   "cell_type": "code",
   "execution_count": 19,
   "id": "e2549918-9ef6-4f43-a136-9483ec8a136a",
   "metadata": {},
   "outputs": [],
   "source": [
    "sns.set_theme(rc={'figure.figsize':(15.7,8.27)})"
   ]
  },
  {
   "cell_type": "code",
   "execution_count": 20,
   "id": "7fcc0faa-0da5-4112-94ad-a66a53a8c846",
   "metadata": {},
   "outputs": [
    {
     "data": {
      "image/png": "[encoded data removed]",
      "text/plain": [
       "<Figure size 1570x827 with 1 Axes>"
      ]
     },
     "metadata": {},
     "output_type": "display_data"
    }
   ],
   "source": [
    "bar_plot = sns.barplot(x=\"Image\", y=\"Sum_Keypoints\", data=df_stats_img, hue=\"Detector\" ).set_title(\"Keypoints per Image by Detector Types\")"
   ]
  },
  {
   "cell_type": "code",
   "execution_count": 21,
   "id": "f8825a20-c87c-4559-9ef9-7b96f60b7447",
   "metadata": {},
   "outputs": [],
   "source": [
    "fig = bar_plot.get_figure()\n",
    "fig.savefig('Keyppints_per_Image_by_Detector.png')"
   ]
  },
  {
   "cell_type": "code",
   "execution_count": 26,
   "id": "758a87d1-9e6a-4649-b2cd-974ad47dc6b7",
   "metadata": {},
   "outputs": [],
   "source": [
    "df_stats_match_img = df_keypoints.groupby([\"Image\", \"Detector\"])[\"Sum_Matches\"].mean().reset_index()"
   ]
  },
  {
   "cell_type": "code",
   "execution_count": 28,
   "id": "3556634a-b85a-4740-b34a-59d346bb2674",
   "metadata": {},
   "outputs": [
    {
     "data": {
      "image/png": "[encoded data removed]",
      "text/plain": [
       "<Figure size 1570x827 with 1 Axes>"
      ]
     },
     "metadata": {},
     "output_type": "display_data"
    }
   ],
   "source": [
    "bar_plot_2 = sns.barplot(x=\"Image\", y=\"Sum_Matches\", data=df_stats_match_img, hue=\"Detector\" ).set_title(\"Keypoints per Image by Detector Types\")"
   ]
  },
  {
   "cell_type": "code",
   "execution_count": 29,
   "id": "69fabe92-a582-43c5-87af-0af7b56ea956",
   "metadata": {},
   "outputs": [],
   "source": [
    "fig2 = bar_plot_2.get_figure()\n",
    "fig2.savefig('MatchingPoints_per_Image_by_Detector.png.png')"
   ]
  },
  {
   "cell_type": "markdown",
   "id": "e99c6859-bef8-4e84-a998-2d75442bceb2",
   "metadata": {},
   "source": [
    "## Process Times"
   ]
  },
  {
   "cell_type": "code",
   "execution_count": 30,
   "id": "ff693db1-7ae0-49b5-a35d-41dc42786a85",
   "metadata": {},
   "outputs": [],
   "source": [
    "df_stats_time = df_keypoints.groupby([\"Detector\"])[\"Total_Time\"].mean().reset_index()"
   ]
  },
  {
   "cell_type": "code",
   "execution_count": 31,
   "id": "fc801e3a-4bf4-4216-9b68-0c74c351f7ae",
   "metadata": {},
   "outputs": [
    {
     "data": {
      "text/html": [
       "<div>\n",
       "<style scoped>\n",
       "    .dataframe tbody tr th:only-of-type {\n",
       "        vertical-align: middle;\n",
       "    }\n",
       "\n",
       "    .dataframe tbody tr th {\n",
       "        vertical-align: top;\n",
       "    }\n",
       "\n",
       "    .dataframe thead th {\n",
       "        text-align: right;\n",
       "    }\n",
       "</style>\n",
       "<table border=\"1\" class=\"dataframe\">\n",
       "  <thead>\n",
       "    <tr style=\"text-align: right;\">\n",
       "      <th></th>\n",
       "      <th>Detector</th>\n",
       "      <th>Total_Time</th>\n",
       "    </tr>\n",
       "  </thead>\n",
       "  <tbody>\n",
       "    <tr>\n",
       "      <th>4</th>\n",
       "      <td>ORB</td>\n",
       "      <td>20.611350</td>\n",
       "    </tr>\n",
       "    <tr>\n",
       "      <th>2</th>\n",
       "      <td>FAST</td>\n",
       "      <td>20.667833</td>\n",
       "    </tr>\n",
       "    <tr>\n",
       "      <th>3</th>\n",
       "      <td>HARRIS</td>\n",
       "      <td>22.047890</td>\n",
       "    </tr>\n",
       "    <tr>\n",
       "      <th>5</th>\n",
       "      <td>SHITOMASI</td>\n",
       "      <td>25.178058</td>\n",
       "    </tr>\n",
       "    <tr>\n",
       "      <th>0</th>\n",
       "      <td>AKAZE</td>\n",
       "      <td>64.982293</td>\n",
       "    </tr>\n",
       "    <tr>\n",
       "      <th>1</th>\n",
       "      <td>BRISK</td>\n",
       "      <td>68.558131</td>\n",
       "    </tr>\n",
       "    <tr>\n",
       "      <th>6</th>\n",
       "      <td>SIFT</td>\n",
       "      <td>94.518053</td>\n",
       "    </tr>\n",
       "  </tbody>\n",
       "</table>\n",
       "</div>"
      ],
      "text/plain": [
       "    Detector  Total_Time\n",
       "4        ORB   20.611350\n",
       "2       FAST   20.667833\n",
       "3     HARRIS   22.047890\n",
       "5  SHITOMASI   25.178058\n",
       "0      AKAZE   64.982293\n",
       "1      BRISK   68.558131\n",
       "6       SIFT   94.518053"
      ]
     },
     "execution_count": 31,
     "metadata": {},
     "output_type": "execute_result"
    }
   ],
   "source": [
    "df_stats_time.sort_values(by=\"Total_Time\", ascending=True)"
   ]
  },
  {
   "cell_type": "code",
   "execution_count": 32,
   "id": "aa6b6597-deb5-4e48-b054-5ac4f562ed88",
   "metadata": {},
   "outputs": [],
   "source": [
    "df_stats_time = df_keypoints.groupby([\"Detector\"])[\"Sum_Matches\"].mean().reset_index()"
   ]
  },
  {
   "cell_type": "code",
   "execution_count": 34,
   "id": "c13ae80e-22cb-4ee5-a792-b9ede60bab30",
   "metadata": {},
   "outputs": [
    {
     "data": {
      "text/html": [
       "<div>\n",
       "<style scoped>\n",
       "    .dataframe tbody tr th:only-of-type {\n",
       "        vertical-align: middle;\n",
       "    }\n",
       "\n",
       "    .dataframe tbody tr th {\n",
       "        vertical-align: top;\n",
       "    }\n",
       "\n",
       "    .dataframe thead th {\n",
       "        text-align: right;\n",
       "    }\n",
       "</style>\n",
       "<table border=\"1\" class=\"dataframe\">\n",
       "  <thead>\n",
       "    <tr style=\"text-align: right;\">\n",
       "      <th></th>\n",
       "      <th>Detector</th>\n",
       "      <th>Sum_Matches</th>\n",
       "    </tr>\n",
       "  </thead>\n",
       "  <tbody>\n",
       "    <tr>\n",
       "      <th>2</th>\n",
       "      <td>FAST</td>\n",
       "      <td>286.222222</td>\n",
       "    </tr>\n",
       "    <tr>\n",
       "      <th>1</th>\n",
       "      <td>BRISK</td>\n",
       "      <td>176.777778</td>\n",
       "    </tr>\n",
       "    <tr>\n",
       "      <th>0</th>\n",
       "      <td>AKAZE</td>\n",
       "      <td>134.537037</td>\n",
       "    </tr>\n",
       "    <tr>\n",
       "      <th>5</th>\n",
       "      <td>SHITOMASI</td>\n",
       "      <td>93.888889</td>\n",
       "    </tr>\n",
       "    <tr>\n",
       "      <th>6</th>\n",
       "      <td>SIFT</td>\n",
       "      <td>73.555556</td>\n",
       "    </tr>\n",
       "    <tr>\n",
       "      <th>4</th>\n",
       "      <td>ORB</td>\n",
       "      <td>70.644444</td>\n",
       "    </tr>\n",
       "    <tr>\n",
       "      <th>3</th>\n",
       "      <td>HARRIS</td>\n",
       "      <td>14.688889</td>\n",
       "    </tr>\n",
       "  </tbody>\n",
       "</table>\n",
       "</div>"
      ],
      "text/plain": [
       "    Detector  Sum_Matches\n",
       "2       FAST   286.222222\n",
       "1      BRISK   176.777778\n",
       "0      AKAZE   134.537037\n",
       "5  SHITOMASI    93.888889\n",
       "6       SIFT    73.555556\n",
       "4        ORB    70.644444\n",
       "3     HARRIS    14.688889"
      ]
     },
     "execution_count": 34,
     "metadata": {},
     "output_type": "execute_result"
    }
   ],
   "source": [
    "df_stats_time.sort_values(by=\"Sum_Matches\", ascending=False)"
   ]
  },
  {
   "cell_type": "code",
   "execution_count": null,
   "id": "1a60c2cb-78b4-4518-8e22-cefd8fd09df7",
   "metadata": {},
   "outputs": [],
   "source": []
  }
 ],
 "metadata": {
  "kernelspec": {
   "display_name": "Python 3 (ipykernel)",
   "language": "python",
   "name": "python3"
  },
  "language_info": {
   "codemirror_mode": {
    "name": "ipython",
    "version": 3
   },
   "file_extension": ".py",
   "mimetype": "text/x-python",
   "name": "python",
   "nbconvert_exporter": "python",
   "pygments_lexer": "ipython3",
   "version": "3.13.2"
  }
 },
 "nbformat": 4,
 "nbformat_minor": 5
}
